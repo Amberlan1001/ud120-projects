{
 "cells": [
  {
   "cell_type": "code",
   "execution_count": 1,
   "metadata": {
    "collapsed": false
   },
   "outputs": [
    {
     "name": "stdout",
     "output_type": "stream",
     "text": [
      "数据点（人）数： 146\n",
      "特征数： 21\n",
      "特征数： 21\n",
      "POI数： 18\n"
     ]
    }
   ],
   "source": [
    "# -*- coding: UTF-8 -*-\n",
    "#!/usr/bin/python\n",
    "\n",
    "\"\"\" \n",
    "    Starter code for exploring the Enron dataset (emails + finances);\n",
    "    loads up the dataset (pickled dict of dicts).\n",
    "\n",
    "    The dataset has the form:\n",
    "    enron_data[\"LASTNAME FIRSTNAME MIDDLEINITIAL\"] = { features_dict }\n",
    "\n",
    "    {features_dict} is a dictionary of features associated with that person.\n",
    "    You should explore features_dict as part of the mini-project,\n",
    "    but here's an example to get you started:\n",
    "\n",
    "    enron_data[\"SKILLING JEFFREY K\"][\"bonus\"] = 5600000\n",
    "    \n",
    "\"\"\"\n",
    "\n",
    "import pickle\n",
    "import re\n",
    "import numpy as np\n",
    "\n",
    "enron_data = pickle.load(open(\"../final_project/final_project_dataset.pkl\", \"r\"))\n",
    "\n",
    "# print enron_data\n",
    "\n",
    "print '数据点（人）数：', len(enron_data)\n",
    "print '特征数：', len(enron_data[enron_data.keys()[0]])\n",
    "print '特征数：', len(enron_data['METTS MARK'])\n",
    "\n",
    "poi_num = 0\n",
    "for key in enron_data:\n",
    "    if enron_data.get(key)['poi'] == 1:\n",
    "        poi_num = poi_num + 1\n",
    "print 'POI数：', poi_num\n"
   ]
  },
  {
   "cell_type": "code",
   "execution_count": 2,
   "metadata": {
    "collapsed": false
   },
   "outputs": [
    {
     "name": "stdout",
     "output_type": "stream",
     "text": [
      "All POI: 35\n"
     ]
    }
   ],
   "source": [
    "poi_all = 0\n",
    "with open(\"../final_project/poi_names.txt\") as f:\n",
    "    content = f.readlines()\n",
    "for line in content:  \n",
    "    if re.match( r'\\((y|n)\\)', line):\n",
    "        poi_all += 1\n",
    "        \n",
    "print \"All POI:\", poi_all"
   ]
  },
  {
   "cell_type": "code",
   "execution_count": 3,
   "metadata": {
    "collapsed": false
   },
   "outputs": [
    {
     "name": "stdout",
     "output_type": "stream",
     "text": [
      "Stock value of James Prentice: 1095040\n"
     ]
    }
   ],
   "source": [
    "print \"Stock value of James Prentice:\", enron_data[\"PRENTICE JAMES\"]['total_stock_value']"
   ]
  },
  {
   "cell_type": "code",
   "execution_count": 4,
   "metadata": {
    "collapsed": false
   },
   "outputs": [
    {
     "name": "stdout",
     "output_type": "stream",
     "text": [
      "Wesley Colwell to POI emails: 11\n"
     ]
    }
   ],
   "source": [
    "print \"Wesley Colwell to POI emails:\", enron_data[\"COLWELL WESLEY\"]['from_this_person_to_poi']"
   ]
  },
  {
   "cell_type": "code",
   "execution_count": 7,
   "metadata": {
    "collapsed": false
   },
   "outputs": [
    {
     "name": "stdout",
     "output_type": "stream",
     "text": [
      "all feature of Jeffrey K Skilling: {'salary': 1111258, 'to_messages': 3627, 'deferral_payments': 'NaN', 'total_payments': 8682716, 'exercised_stock_options': 19250000, 'bonus': 5600000, 'restricted_stock': 6843672, 'shared_receipt_with_poi': 2042, 'restricted_stock_deferred': 'NaN', 'total_stock_value': 26093672, 'expenses': 29336, 'loan_advances': 'NaN', 'from_messages': 108, 'other': 22122, 'from_this_person_to_poi': 30, 'poi': True, 'director_fees': 'NaN', 'deferred_income': 'NaN', 'long_term_incentive': 1920000, 'email_address': 'jeff.skilling@enron.com', 'from_poi_to_this_person': 88}\n",
      "Stock options of Jeffrey Skilling: 19250000\n"
     ]
    }
   ],
   "source": [
    "print 'all feature of Jeffrey K Skilling:',enron_data.get('SKILLING JEFFREY K')\n",
    "print \"Stock options of Jeffrey Skilling:\", enron_data[\"SKILLING JEFFREY K\"]['exercised_stock_options']"
   ]
  },
  {
   "cell_type": "code",
   "execution_count": 13,
   "metadata": {
    "collapsed": false
   },
   "outputs": [
    {
     "name": "stdout",
     "output_type": "stream",
     "text": [
      "{'SKILLING JEFFREY K': 8682716, 'LAY KENNETH L': 103559793, 'FASTOW ANDREW S': 2424083}\n",
      "Largest total payment earner and payment: LAY KENNETH L 103559793\n"
     ]
    }
   ],
   "source": [
    "enron_keyPOIPayment = dict((k,enron_data[k]['total_payments']) for k in (\"LAY KENNETH L\", \"SKILLING JEFFREY K\", \"FASTOW ANDREW S\"))\n",
    "print enron_keyPOIPayment\n",
    "# print enron_keyPOIPayment.get\n",
    "max_earner = max(enron_keyPOIPayment, key=enron_keyPOIPayment.get)\n",
    "print \"Largest total payment earner and payment:\", max_earner, enron_keyPOIPayment[max_earner]"
   ]
  },
  {
   "cell_type": "code",
   "execution_count": 15,
   "metadata": {
    "collapsed": false
   },
   "outputs": [
    {
     "name": "stdout",
     "output_type": "stream",
     "text": [
      " Salaries available: 95\n",
      "Emails available: 111\n",
      "NaN for total payment and percentage: 21 14.3835616438\n",
      "NaN for total payment of POI and percentage: 0 0.0\n"
     ]
    }
   ],
   "source": [
    "salaries_available = 0\n",
    "emails_available = 0\n",
    "total_payments_unavailable = 0\n",
    "total_payments_unavailable_poi = 0\n",
    "for name in enron_data:\n",
    "    if not np.isnan(float(enron_data[name]['salary'])):\n",
    "        salaries_available += 1\n",
    "    if enron_data[name]['email_address'] != \"NaN\":\n",
    "        emails_available += 1\n",
    "    if np.isnan(float(enron_data[name]['total_payments'])):\n",
    "        total_payments_unavailable += 1\n",
    "        if enron_data[name]['poi']:\n",
    "            total_payments_unavailable_poi += 1\n",
    "        \n",
    "    \n",
    "print \"Salaries available:\", salaries_available\n",
    "print \"Emails available:\", emails_available\n",
    "print \"NaN for total payment and percentage:\", total_payments_unavailable, float(total_payments_unavailable)/len(enron_data)*100\n",
    "print \"NaN for total payment of POI and percentage:\", total_payments_unavailable_poi, float(total_payments_unavailable_poi)/poi_num*100\n"
   ]
  },
  {
   "cell_type": "code",
   "execution_count": null,
   "metadata": {
    "collapsed": true
   },
   "outputs": [],
   "source": []
  }
 ],
 "metadata": {
  "kernelspec": {
   "display_name": "Python 2",
   "language": "python",
   "name": "python2"
  },
  "language_info": {
   "codemirror_mode": {
    "name": "ipython",
    "version": 2
   },
   "file_extension": ".py",
   "mimetype": "text/x-python",
   "name": "python",
   "nbconvert_exporter": "python",
   "pygments_lexer": "ipython2",
   "version": "2.7.13"
  }
 },
 "nbformat": 4,
 "nbformat_minor": 2
}
